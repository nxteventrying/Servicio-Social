{
 "cells": [
  {
   "cell_type": "code",
   "execution_count": 3,
   "id": "d7aa2c48-c190-4e7d-8d08-1d3e3d8bcb14",
   "metadata": {},
   "outputs": [
    {
     "name": "stderr",
     "output_type": "stream",
     "text": [
      "317.01s - pydevd: Sending message related to process being replaced timed-out after 5 seconds\n"
     ]
    },
    {
     "name": "stdout",
     "output_type": "stream",
     "text": [
      "Defaulting to user installation because normal site-packages is not writeable\n",
      "Collecting pandas\n",
      "  Downloading pandas-2.2.3-cp310-cp310-manylinux_2_17_x86_64.manylinux2014_x86_64.whl (13.1 MB)\n",
      "\u001b[2K     \u001b[38;2;114;156;31m━━━━━━━━━━━━━━━━━━━━━━━━━━━━━━━━━━━━━━━━\u001b[0m \u001b[32m13.1/13.1 MB\u001b[0m \u001b[31m3.7 MB/s\u001b[0m eta \u001b[36m0:00:00\u001b[0mm eta \u001b[36m0:00:01\u001b[0m0:01\u001b[0m:01\u001b[0m\n",
      "\u001b[?25hRequirement already satisfied: python-dateutil>=2.8.2 in /home/think/.local/lib/python3.10/site-packages (from pandas) (2.9.0.post0)\n",
      "Collecting tzdata>=2022.7\n",
      "  Downloading tzdata-2024.2-py2.py3-none-any.whl (346 kB)\n",
      "\u001b[2K     \u001b[38;2;114;156;31m━━━━━━━━━━━━━━━━━━━━━━━━━━━━━━━━━━━━━━━\u001b[0m \u001b[32m346.6/346.6 KB\u001b[0m \u001b[31m4.1 MB/s\u001b[0m eta \u001b[36m0:00:00\u001b[0m MB/s\u001b[0m eta \u001b[36m0:00:01\u001b[0m:01\u001b[0m\n",
      "\u001b[?25hRequirement already satisfied: pytz>=2020.1 in /usr/lib/python3/dist-packages (from pandas) (2022.1)\n",
      "Collecting numpy>=1.22.4\n",
      "  Downloading numpy-2.1.3-cp310-cp310-manylinux_2_17_x86_64.manylinux2014_x86_64.whl (16.3 MB)\n",
      "\u001b[2K     \u001b[38;2;114;156;31m━━━━━━━━━━━━━━━━━━━━━━━━━━━━━━━━━━━━━━━━\u001b[0m \u001b[32m16.3/16.3 MB\u001b[0m \u001b[31m3.9 MB/s\u001b[0m eta \u001b[36m0:00:00\u001b[0mm eta \u001b[36m0:00:01\u001b[0m[36m0:00:01\u001b[0m\n",
      "\u001b[?25hRequirement already satisfied: six>=1.5 in /usr/lib/python3/dist-packages (from python-dateutil>=2.8.2->pandas) (1.16.0)\n",
      "Installing collected packages: tzdata, numpy, pandas\n",
      "Successfully installed numpy-2.1.3 pandas-2.2.3 tzdata-2024.2\n",
      "Note: you may need to restart the kernel to use updated packages.\n"
     ]
    }
   ],
   "source": [
    "pip install pandas"
   ]
  },
  {
   "cell_type": "code",
   "execution_count": 4,
   "id": "9fc6e136-d0f0-4c53-b157-a4ca18cad362",
   "metadata": {},
   "outputs": [],
   "source": [
    "import pandas as pd"
   ]
  },
  {
   "cell_type": "code",
   "execution_count": 6,
   "id": "31cfa8fd-3f87-40e9-8c43-bc9b59fe6288",
   "metadata": {},
   "outputs": [],
   "source": [
    "df = pd.read_csv('YO/FMLV031024/2024_10_03-11_58_51_RR.csv')"
   ]
  },
  {
   "cell_type": "code",
   "execution_count": 8,
   "id": "f1df2755-d759-431b-99db-606b04e8c3a2",
   "metadata": {},
   "outputs": [
    {
     "name": "stdout",
     "output_type": "stream",
     "text": [
      "<class 'pandas.core.frame.DataFrame'>\n",
      "RangeIndex: 2224 entries, 0 to 2223\n",
      "Data columns (total 2 columns):\n",
      " #   Column  Non-Null Count  Dtype  \n",
      "---  ------  --------------  -----  \n",
      " 0   Time    0 non-null      float64\n",
      " 1   RtoR    2224 non-null   int64  \n",
      "dtypes: float64(1), int64(1)\n",
      "memory usage: 34.9 KB\n"
     ]
    }
   ],
   "source": [
    "df.info()"
   ]
  },
  {
   "cell_type": "code",
   "execution_count": 9,
   "id": "30184aa4-3be1-4b07-8f61-b32c9c011961",
   "metadata": {},
   "outputs": [
    {
     "data": {
      "text/html": [
       "<div>\n",
       "<style scoped>\n",
       "    .dataframe tbody tr th:only-of-type {\n",
       "        vertical-align: middle;\n",
       "    }\n",
       "\n",
       "    .dataframe tbody tr th {\n",
       "        vertical-align: top;\n",
       "    }\n",
       "\n",
       "    .dataframe thead th {\n",
       "        text-align: right;\n",
       "    }\n",
       "</style>\n",
       "<table border=\"1\" class=\"dataframe\">\n",
       "  <thead>\n",
       "    <tr style=\"text-align: right;\">\n",
       "      <th></th>\n",
       "      <th>Time</th>\n",
       "      <th>RtoR</th>\n",
       "    </tr>\n",
       "  </thead>\n",
       "  <tbody>\n",
       "    <tr>\n",
       "      <th>0</th>\n",
       "      <td>NaN</td>\n",
       "      <td>17729</td>\n",
       "    </tr>\n",
       "    <tr>\n",
       "      <th>1</th>\n",
       "      <td>NaN</td>\n",
       "      <td>13114</td>\n",
       "    </tr>\n",
       "    <tr>\n",
       "      <th>2</th>\n",
       "      <td>NaN</td>\n",
       "      <td>253</td>\n",
       "    </tr>\n",
       "    <tr>\n",
       "      <th>3</th>\n",
       "      <td>NaN</td>\n",
       "      <td>3176</td>\n",
       "    </tr>\n",
       "    <tr>\n",
       "      <th>4</th>\n",
       "      <td>NaN</td>\n",
       "      <td>10164</td>\n",
       "    </tr>\n",
       "  </tbody>\n",
       "</table>\n",
       "</div>"
      ],
      "text/plain": [
       "   Time   RtoR\n",
       "0   NaN  17729\n",
       "1   NaN  13114\n",
       "2   NaN    253\n",
       "3   NaN   3176\n",
       "4   NaN  10164"
      ]
     },
     "execution_count": 9,
     "metadata": {},
     "output_type": "execute_result"
    }
   ],
   "source": [
    "df.head()"
   ]
  },
  {
   "cell_type": "code",
   "execution_count": 10,
   "id": "6de09f18-d934-4b8c-a1ea-733200698719",
   "metadata": {},
   "outputs": [
    {
     "data": {
      "text/plain": [
       "array([17729, 13114,   253,  3176, 10164,  1338,   441,   190,    91,\n",
       "         314,   830,   856, 27396,   593,  5249,   821,   640,  1504,\n",
       "          65,   696,   121,   452,   396,    17,   523,   272,   831,\n",
       "         430,  5137,   868,  1921,   911,   250,   281,   282,   139,\n",
       "        4278,  2242,   386,    37,   675,   126,   323,  1279,   151,\n",
       "         257,   406,   192,   337,   482,   124,   545,   316,   130,\n",
       "         298,   212,   182,   425,    84,   579,   236,   177,   433,\n",
       "          33,   580,   326,   142,   156,   344,  1269,   341,   409,\n",
       "         395,   175,   493,   351,   209,   381,  1097,   101,   235,\n",
       "         186,   361,   184,   200,   456,  1267,   287,   676,   417,\n",
       "        1670, 13182,   810,  5273,  1905,    96,  1152,  4842, 13632,\n",
       "         828,   402,   216,   378,  3236,  8600,  4176,  3112,   913,\n",
       "         914,   976,    83,   223,   333,   154,   390,   231,   176,\n",
       "         846,   438,  6046,   447,   418,   435,    74,   222,   693,\n",
       "         302,    75,   668,  1681,   160,  1234, 18448,  1118,  2228,\n",
       "         940,    71,  3160,   945,  1186,  1169,  1030,   910,  1130,\n",
       "        1212,  6036,   578,   824, 12196,   205,  1355,   158,  5872,\n",
       "        2140,  1196,   490,  1719,  1368,   183,   872,   371,  1033,\n",
       "         623,  3406,   243,  1047,  1252,  1126,   214,   926,  1215,\n",
       "        1216,  2461,  1182,  2389,  1194,  1189,   981,  1233,  1193,\n",
       "        1061,   992,  1207,  1164,  1210,  1255,  1250,  1211,  1175,\n",
       "        1171,  1163,  1071,  1087,   953,  1143,  1131,  1013,   900,\n",
       "        1064,  1074,  1035,  5058,  1863,  1224,  1218,  1199,  1133,\n",
       "        1177,  1111,  1150,  1146,  1178,  1099,  1041,  1134,  1045,\n",
       "        1139,  1039,  1125,  1098,  1185,  1227,  1187,  1232,  1081,\n",
       "        1190,  1149,  1162,  1114,  1147,  1322,  1208,  1179,  1318,\n",
       "        1201,  2180,  1001,  1230,  1297,  1200,  1110,  1014,  1206,\n",
       "         954,   385,  1271,  1174,  1075,  1183,  1326,  1243,  1136,\n",
       "        1239,  1202,  1165,  1062,   957,  1000,  1287,  1244,   458,\n",
       "         612,   902,  2296,  1316,  1350,  1301,  1016,   549,   360,\n",
       "         979,  1176,   994,  1055,  1231,  1237,  1002,  1228,  1095,\n",
       "        1083,   972,   982,  1096,  1157,  1046,  1090,  1203,  1222,\n",
       "        2247,  1004,  1093,  1166,  1161,  1148,  1025,  1160,  1173,\n",
       "        1104,   720,   349,   952,   961,  1100,  1167,  1155,  1028,\n",
       "        1006,  1156,  1197,   983,  1221,  1026,  1105,  1191,  1242,\n",
       "        1037,  1073,  1213,  1241,  1214,  1181,  1116,   987,   931,\n",
       "        1011,  1184,  1198,  1195,  1192,  1121,  1223,  1209,  1082,\n",
       "         974,  1240,  1015,  1135,  1154,  1119,   964,  1128,  1140,\n",
       "        1053,   969,  1103,  1159,  1066,   460,  1711,  1084,  1069,\n",
       "         912,   128,  3554,  2175,  1170,  1060,  1106,  1205,  1124,\n",
       "        1217,  1188,   989,  1115,  1158,  1108,  1052,  1219,  1144,\n",
       "        1129,  1068,   946,   955,   936,  1022,  1079,  1044,   985,\n",
       "        1117,  1138,  1226,   973,  1070,  1043,  1023,   997,   988,\n",
       "         924,   904,   865,   826,   798,  1526,   749,   754,   743,\n",
       "         715,   719,   730,   726,   747,   767,   775,   782,   839,\n",
       "         869,   836,   226,   166,   477,   679,   813,   769,   750,\n",
       "         739,   742,   746,   770,   812,   819,   648,   199,   210,\n",
       "        1437,   841,  1695,   853,   857,   837,   814,   805,   779,\n",
       "         800,   795,  2268,   734,   758,   772,   763,   762,  2318,\n",
       "         860,   908,   870,   834,   849,   892,   929,  1772,   509,\n",
       "         394,   874,   858,   299,   607,   962,   574,   380,   102,\n",
       "         807,   906,   927,  1720,   845,   822,   796,   815,  1299,\n",
       "         270,   633,   171,   308,   194,   825,   786,   823,   861,\n",
       "         694,   136,   355,   510,   440,   852,   811,   863,   879,\n",
       "         891,   832,   850,   854,   859,  1683,   862,   851,   548,\n",
       "         273,   827,  1908,   635,   357,   304,   712,   140,   867,\n",
       "         890,   998,   875,  1944,   680,   317,   930,  1966,   996,\n",
       "         970,   977,   986,   917,   467,   491,   899,   864,   896,\n",
       "         842,   690,   217,   843,   922,   893,   818,   923,   437,\n",
       "         445,   884,   704,   213,   880,   937,   885,   855,   492,\n",
       "         332,   606,   228,   376,   808,   838,  1592,   187,   135,\n",
       "         520,   771,   878,   871,   888,  1774,   881,   658,   915,\n",
       "         866,   147,   705,   356,   461,   848,   829,   882,   916,\n",
       "         877,  1012,   928,   984,   643,   898,   387,   554,  1892,\n",
       "         959,   932,   753,   169,   956,   897,   919,   431,   518,\n",
       "         950,   960,   995,   564,   907,   595,   353,   965,   722,\n",
       "         195,   921,   943,   971,  1003,   833,  1794,  1957,   152,\n",
       "         991,   103,  1017,   234,  1094,  1010,  1058,   948,   465,\n",
       "         397,   689,  1781,   934,   895,   820,  1007,   935,   999,\n",
       "         938,   918,   886,   794,   840,   883,   909,   933,   925,\n",
       "         944,  1970,   345,   660,   240,   755,   901,   949,   905,\n",
       "         939,   978,   894,   784,   359,   432,   793,   835,   809,\n",
       "         975,   951,   963,   535,   471,   966,  1042,  1020,   501,\n",
       "         405,   903,  1049,  1008,  1019,   790,   876,   968,   942,\n",
       "         941,   816,   783,  1031,  1018,   967,   887,   920,   873,\n",
       "         947,  1816,   844,   802,  1032,  1021,  1050,  1005,  1040,\n",
       "         980,   562,   271,  2341,  3936,  1036,  1867,  1313,  1382,\n",
       "         295,   587,   423,   682,   321,   661,  1076,   307,  1089,\n",
       "         408,   149,  1048,  1180,   683,    54,   436,   328,  1891,\n",
       "        1257,  1107,  1057,  1168,  1132,  1027,  1141,  1229,  1238,\n",
       "         242,   644,  1145,  2095,   150,   245,   416,   277,   799,\n",
       "         173,   651,   313,    53,   522,  1123,    94,   449,  1122,\n",
       "         537,   172,   530,   718,   503,   632,   599,  1056,  1067,\n",
       "        1109,   619,   367,  1101,  1072,    88,   446,   238,   297,\n",
       "         260,  1088,  1080,  1077,   630,   290,   589,   737,   401,\n",
       "         224,   512,   662,   148,   331,   229,    36,   309,   674,\n",
       "         439,   188,   220,   497,  1059,   134,   468,   362,   533,\n",
       "        1654,   374,   289,   336,   189,   684,   412,   563,   300,\n",
       "         569,   591,   547,   757,   541,  1137,   751,  1120,   382,\n",
       "         663,   100,   622,   475,   358,   761,  1127,  1102,   585,\n",
       "         105,   320,   329,   196,   685,   577,   131,   525,   531,\n",
       "         293,   233,   407,   138,   122,   219,  2232,  1063,   338,\n",
       "         626,   656,   499,   517,  1065,   318,  1153,   284,    85,\n",
       "         602,   366,   688,   398,   792,   776,   756,   781,  1605,\n",
       "        1576,  1990,   958,  2064,  1024,  1038,   594,   521,  1085,\n",
       "         695,   373,   347,   889,   847,   993,   141,   428,   230,\n",
       "         789,   244,   618,   502,   291,   427,    77,   752,   111,\n",
       "         787,  1051,  1054,  1775,   237,   516,   383,   629,   990,\n",
       "        1078,  1092,  2054,  1034,   143,   133,   180,   584,  1309,\n",
       "        1804,  1112,   487,   163,   529,   325,   692,   667,   206,\n",
       "        1272,   255,   343,   327,   543,    62,   759,   515,  3246,\n",
       "         785,   400,  4521])"
      ]
     },
     "execution_count": 10,
     "metadata": {},
     "output_type": "execute_result"
    }
   ],
   "source": [
    "df['RtoR'].unique()"
   ]
  },
  {
   "cell_type": "code",
   "execution_count": 12,
   "id": "8d8497d1-ebe0-47e4-9863-49cf862a7c39",
   "metadata": {},
   "outputs": [
    {
     "name": "stdout",
     "output_type": "stream",
     "text": [
      "Unique types in the column: [<class 'int'>]\n"
     ]
    }
   ],
   "source": [
    "# Get all types in a column\n",
    "types_in_column = df['RtoR'].apply(type)\n",
    "\n",
    "# Show unique types\n",
    "unique_types = types_in_column.unique()\n",
    "\n",
    "print(\"Unique types in the column:\", unique_types)"
   ]
  },
  {
   "cell_type": "code",
   "execution_count": null,
   "id": "3af16a10-729f-4342-9a66-a3c376fbab76",
   "metadata": {},
   "outputs": [],
   "source": [
    "import matplotlib.pyplot as plt\n",
    "import pandas as pd\n",
    "\n",
    "# Data loading function\n",
    "def load_data(filepath):\n",
    "    try:\n",
    "        if filepath.endswith(\".csv\") or filepath.endswith(\".txt\"):\n",
    "            data = pd.read_csv(filepath, sep=\",\", engine='python')\n",
    "        elif filepath.endswith(\".xlsx\"):\n",
    "            data = pd.read_excel(filepath)\n",
    "        elif filepath.endswith(\".json\"):\n",
    "            data = pd.read_json(filepath)\n",
    "        else:\n",
    "            raise ValueError(\"Unsupported file format\")\n",
    "\n",
    "        # Ensure column names and numeric conversion\n",
    "        if data.shape[1] < 2:\n",
    "            raise ValueError(\"Data file must have at least two columns\")\n",
    "\n",
    "        if not pd.api.types.is_numeric_dtype(data.iloc[:, 0]):\n",
    "            data.columns = data.iloc[0]\n",
    "            data = data[1:].reset_index(drop=True)\n",
    "        data.columns = ['x', 'y']\n",
    "        data = data.apply(pd.to_numeric, errors='coerce').dropna()\n",
    "\n",
    "        return data\n",
    "    except Exception as e:\n",
    "        print(f\"Error loading data: {e}\")\n",
    "        return None\n",
    "\n",
    "# Plotting function\n",
    "def plot_data(data):\n",
    "    if data is None or data.empty:\n",
    "        print(\"No valid data to plot.\")\n",
    "        return\n",
    "\n",
    "    fig, ax = plt.subplots()\n",
    "    ax.scatter(data['x'], data['y'], color='blue', s=100)\n",
    "    ax.set_title(\"Data Plot\")\n",
    "    ax.set_xlabel(\"X\")\n",
    "    ax.set_ylabel(\"Y\")\n",
    "    ax.grid(True)\n",
    "    plt.show()\n",
    "\n",
    "# Example usage\n",
    "if __name__ == \"__main__\":\n",
    "    filepath = input(\"Enter the file path: \")\n",
    "    data = load_data(filepath)\n",
    "    plot_data(data)\n"
   ]
  },
  {
   "cell_type": "code",
   "execution_count": null,
   "id": "1128d26e-02e2-4e8e-87b8-14f0c2cd5df1",
   "metadata": {},
   "outputs": [],
   "source": []
  },
  {
   "cell_type": "code",
   "execution_count": null,
   "id": "8fc3b363-5db0-481a-bcfd-60b96b1769cc",
   "metadata": {},
   "outputs": [],
   "source": []
  },
  {
   "cell_type": "code",
   "execution_count": null,
   "id": "8c041587-ae21-4758-ab52-36ec4d08b4ec",
   "metadata": {},
   "outputs": [],
   "source": []
  },
  {
   "cell_type": "code",
   "execution_count": 17,
   "id": "1b533fc0-668f-46e0-bf14-d8944ba78e5e",
   "metadata": {},
   "outputs": [],
   "source": [
    "import matplotlib.pyplot as plt\n",
    "import pandas as pd\n",
    "\n",
    "def load_and_plot_data(filepath):\n",
    "    \"\"\"\n",
    "    Loads data from a file and plots it. Designed for use in Jupyter Notebooks.\n",
    "    \n",
    "    Parameters:\n",
    "        filepath (str): The path to the data file.\n",
    "    \n",
    "    Returns:\n",
    "        None\n",
    "    \"\"\"\n",
    "    try:\n",
    "        # Load the data based on file extension\n",
    "        if filepath.endswith(\".csv\") or filepath.endswith(\".txt\"):\n",
    "            data = pd.read_csv(filepath, sep=None, engine='python')  # Auto-detect delimiter\n",
    "        elif filepath.endswith(\".xlsx\"):\n",
    "            data = pd.read_excel(filepath)\n",
    "        elif filepath.endswith(\".json\"):\n",
    "            data = pd.read_json(filepath)\n",
    "        else:\n",
    "            raise ValueError(\"Unsupported file format\")\n",
    "\n",
    "        # Debugging prints: Original data\n",
    "        print(\"Original Data File:\")\n",
    "        print(data.head())\n",
    "\n",
    "        # Handle single-column files\n",
    "        if data.shape[1] == 1:\n",
    "            data.columns = ['y']\n",
    "            data['x'] = range(len(data))\n",
    "        elif data.shape[1] >= 2:\n",
    "            # Ensure correct column naming\n",
    "            data.columns = data.columns[:2]  # Take only the first two columns\n",
    "            data.columns = ['x', 'y']\n",
    "        else:\n",
    "            raise ValueError(\"Data file must have at least one or two columns\")\n",
    "\n",
    "        # Convert to numeric and drop rows with NaNs\n",
    "        data = data.apply(pd.to_numeric, errors='coerce').dropna()\n",
    "\n",
    "        # Debugging prints: Processed data\n",
    "        print(\"Processed Data:\")\n",
    "        print(data.head())\n",
    "\n",
    "        # Plot the data\n",
    "        fig, ax = plt.subplots()\n",
    "        ax.scatter(data['x'], data['y'], color='blue', s=100)\n",
    "        ax.set_title(\"Data Plot\")\n",
    "        ax.set_xlabel(\"X\")\n",
    "        ax.set_ylabel(\"Y\")\n",
    "        ax.grid(True)\n",
    "        plt.show()\n",
    "    \n",
    "    except Exception as e:\n",
    "        print(f\"Error: {e}\")\n",
    "\n",
    "# Example usage in a Jupyter Notebook\n",
    "# filepath = \"path_to_your_file.csv\"\n",
    "# load_and_plot_data(filepath)\n",
    "\n"
   ]
  },
  {
   "cell_type": "code",
   "execution_count": 18,
   "id": "6dd05951-d13b-4d74-b936-6618de1898db",
   "metadata": {},
   "outputs": [
    {
     "name": "stdout",
     "output_type": "stream",
     "text": [
      "Original Data File:\n",
      "   Time   RtoR\n",
      "0   NaN  17729\n",
      "1   NaN  13114\n",
      "2   NaN    253\n",
      "3   NaN   3176\n",
      "4   NaN  10164\n",
      "Processed Data:\n",
      "Empty DataFrame\n",
      "Columns: [x, y]\n",
      "Index: []\n"
     ]
    },
    {
     "data": {
      "image/png": "[encoded data removed]",
      "text/plain": [
       "<Figure size 640x480 with 1 Axes>"
      ]
     },
     "metadata": {},
     "output_type": "display_data"
    }
   ],
   "source": [
    "# Example usage in a Jupyter Notebook\n",
    "filepath = \"YO/FMLV031024/2024_10_03-11_58_51_RR.csv\"\n",
    "load_and_plot_data(filepath)"
   ]
  },
  {
   "cell_type": "code",
   "execution_count": 33,
   "id": "e0adf224-c669-44d3-8912-cf6ef911bf1f",
   "metadata": {},
   "outputs": [
    {
     "name": "stdout",
     "output_type": "stream",
     "text": [
      "       0      1\n",
      "0    NaN  17729\n",
      "1    NaN  13114\n",
      "2    NaN    253\n",
      "3    NaN   3176\n",
      "4    NaN  10164\n",
      "...   ..    ...\n",
      "2219 NaN    855\n",
      "2220 NaN   3246\n",
      "2221 NaN    785\n",
      "2222 NaN    400\n",
      "2223 NaN   4521\n",
      "\n",
      "[2224 rows x 2 columns]\n",
      "Processed Data:\n",
      "           x      y\n",
      "0        1.0  17729\n",
      "1        2.0  13114\n",
      "2        3.0    253\n",
      "3        4.0   3176\n",
      "4        5.0  10164\n",
      "...      ...    ...\n",
      "2219  2220.0    855\n",
      "2220  2221.0   3246\n",
      "2221  2222.0    785\n",
      "2222  2223.0    400\n",
      "2223  2224.0   4521\n",
      "\n",
      "[2224 rows x 2 columns]\n"
     ]
    }
   ],
   "source": [
    "import pandas as pd\n",
    "\n",
    "# Load the file and skip the header\n",
    "file_path = 'YO/FMLV031024/2024_10_03-11_58_51_RR.csv'\n",
    "data = pd.read_csv(file_path, header=None, skiprows=1)  # Skip the header row\n",
    "print(data)\n",
    "# Check for NaN in the first column and fill it with sequential numbers starting from 1\n",
    "data[0] = data[0].fillna(pd.Series(range(1, len(data) + 1)))\n",
    "\n",
    "# Rename columns for clarity\n",
    "data.columns = ['x', 'y']\n",
    "\n",
    "# Display the resulting DataFrame\n",
    "print(\"Processed Data:\")\n",
    "print(data)\n",
    "\n",
    "# Save the updated DataFrame back to a file if needed\n",
    "data.to_csv('updated_data.csv', index=False)\n"
   ]
  },
  {
   "cell_type": "code",
   "execution_count": 28,
   "id": "808177c8-7320-4dc7-8de3-353768a00250",
   "metadata": {},
   "outputs": [],
   "source": [
    "import matplotlib.pyplot as plt\n",
    "import pandas as pd\n",
    "\n",
    "\n",
    "def load_and_plot_data(filepath):\n",
    "    \"\"\"\n",
    "    Loads data from a file and plots it. Designed for use in Jupyter Notebooks.\n",
    "    \n",
    "    Parameters:\n",
    "        filepath (str): The path to the data file.\n",
    "    \n",
    "    Returns:\n",
    "        None\n",
    "    \"\"\"\n",
    "    try:\n",
    "        # Load the data explicitly ignoring headers/skiprows to ensure correct alignment\n",
    "        data = pd.read_csv(filepath, header=0)  # Ensure header is explicitly loaded\n",
    "        \n",
    "        # Debugging prints: raw data\n",
    "        print(\"Original Data File:\")\n",
    "        print(data.head())\n",
    "\n",
    "        # Manually handle misaligned/NaN values for the first column\n",
    "        if 'Time' in data.columns:\n",
    "            # Replace NaN values with sequential index to maintain integrity\n",
    "            data['Time'] = pd.to_numeric(data['Time'], errors='coerce')\n",
    "            data['Time'].fillna(pd.Series(range(1, len(data) + 1)), inplace=True)\n",
    "\n",
    "        # Ensure only the first two columns are used as x and y values\n",
    "        data.columns = ['x', 'y']\n",
    "\n",
    "        # Convert numeric values only\n",
    "        data = data.apply(pd.to_numeric, errors='coerce').dropna()\n",
    "\n",
    "        # Debugging prints\n",
    "        print(\"Processed Data:\")\n",
    "        print(data.head())\n",
    "\n",
    "        # Plot the data\n",
    "        fig, ax = plt.subplots()\n",
    "        ax.scatter(data['x'], data['y'], color='blue', s=100)\n",
    "        ax.set_title(\"Data Plot\")\n",
    "        ax.set_xlabel(\"X\")\n",
    "        ax.set_ylabel(\"Y\")\n",
    "        ax.grid(True)\n",
    "        plt.show()\n",
    "\n",
    "    except Exception as e:\n",
    "        print(f\"Error: {e}\")\n",
    "\n",
    "\n",
    "# Example usage in a Jupyter Notebook\n",
    "# filepath = \"/your/path/to/file.csv\"\n",
    "# load_and_plot_data(filepath)\n",
    "\n"
   ]
  },
  {
   "cell_type": "code",
   "execution_count": 29,
   "id": "c27737a2-c614-4ac4-95c7-40e11f6eab7c",
   "metadata": {},
   "outputs": [
    {
     "name": "stdout",
     "output_type": "stream",
     "text": [
      "Original Data File:\n",
      "   Time   RtoR\n",
      "0   NaN  17729\n",
      "1   NaN  13114\n",
      "2   NaN    253\n",
      "3   NaN   3176\n",
      "4   NaN  10164\n",
      "Processed Data:\n",
      "     x      y\n",
      "0  1.0  17729\n",
      "1  2.0  13114\n",
      "2  3.0    253\n",
      "3  4.0   3176\n",
      "4  5.0  10164\n"
     ]
    },
    {
     "name": "stderr",
     "output_type": "stream",
     "text": [
      "/tmp/ipykernel_14077/3424178295.py:27: FutureWarning: A value is trying to be set on a copy of a DataFrame or Series through chained assignment using an inplace method.\n",
      "The behavior will change in pandas 3.0. This inplace method will never work because the intermediate object on which we are setting values always behaves as a copy.\n",
      "\n",
      "For example, when doing 'df[col].method(value, inplace=True)', try using 'df.method({col: value}, inplace=True)' or df[col] = df[col].method(value) instead, to perform the operation inplace on the original object.\n",
      "\n",
      "\n",
      "  data['Time'].fillna(pd.Series(range(1, len(data) + 1)), inplace=True)\n"
     ]
    },
    {
     "data": {
      "image/png": "[encoded data removed]",
      "text/plain": [
       "<Figure size 640x480 with 1 Axes>"
      ]
     },
     "metadata": {},
     "output_type": "display_data"
    }
   ],
   "source": [
    "# Example usage in a Jupyter Notebook\n",
    "filepath = \"YO/FMLV031024/2024_10_03-11_58_51_RR.csv\"\n",
    "load_and_plot_data(filepath)"
   ]
  },
  {
   "cell_type": "code",
   "execution_count": 30,
   "id": "37ff6ab7-e881-4cfc-b07a-69dd4ab744af",
   "metadata": {},
   "outputs": [],
   "source": [
    "import matplotlib.pyplot as plt\n",
    "import pandas as pd\n",
    "\n",
    "\n",
    "def load_and_plot_data(filepath):\n",
    "    \"\"\"\n",
    "    Loads data from a file and plots it. Designed for use in Jupyter Notebooks.\n",
    "    \n",
    "    Parameters:\n",
    "        filepath (str): The path to the data file.\n",
    "    \n",
    "    Returns:\n",
    "        None\n",
    "    \"\"\"\n",
    "    try:\n",
    "        # Load the data explicitly ignoring headers to ensure correct alignment\n",
    "        data = pd.read_csv(filepath, header=0)  # Ensure header is explicitly loaded\n",
    "        \n",
    "        # Debugging prints: raw data\n",
    "        print(\"Original Data File:\")\n",
    "        print(data.head())\n",
    "\n",
    "        # Manually handle misaligned/NaN values for the first column\n",
    "        if 'Time' in data.columns:\n",
    "            # Replace NaN values with sequential index to maintain integrity\n",
    "            data['Time'] = pd.to_numeric(data['Time'], errors='coerce')\n",
    "            data['Time'] = data['Time'].fillna(pd.Series(range(1, len(data) + 1)))  # Fix chained assignment warning\n",
    "\n",
    "        # Ensure only the first two columns are used as x and y values\n",
    "        data.columns = ['x', 'y']\n",
    "\n",
    "        # Convert numeric values only\n",
    "        data = data.apply(pd.to_numeric, errors='coerce').dropna()\n",
    "\n",
    "        # Debugging prints\n",
    "        print(\"Processed Data:\")\n",
    "        print(data.head())\n",
    "\n",
    "        # Plot the data\n",
    "        fig, ax = plt.subplots()\n",
    "        ax.scatter(data['x'], data['y'], color='blue', s=100)\n",
    "        ax.set_title(\"Data Plot\")\n",
    "        ax.set_xlabel(\"X\")\n",
    "        ax.set_ylabel(\"Y\")\n",
    "        ax.grid(True)\n",
    "        plt.show()\n",
    "\n",
    "    except Exception as e:\n",
    "        print(f\"Error: {e}\")\n",
    "\n",
    "\n",
    "# Example usage in a Jupyter Notebook\n",
    "# filepath = \"/your/path/to/file.csv\"\n",
    "# load_and_plot_data(filepath)\n"
   ]
  },
  {
   "cell_type": "code",
   "execution_count": 31,
   "id": "f5fe917e-96ad-4456-b750-94509e58d9c7",
   "metadata": {},
   "outputs": [
    {
     "name": "stdout",
     "output_type": "stream",
     "text": [
      "Original Data File:\n",
      "   Time   RtoR\n",
      "0   NaN  17729\n",
      "1   NaN  13114\n",
      "2   NaN    253\n",
      "3   NaN   3176\n",
      "4   NaN  10164\n",
      "Processed Data:\n",
      "     x      y\n",
      "0  1.0  17729\n",
      "1  2.0  13114\n",
      "2  3.0    253\n",
      "3  4.0   3176\n",
      "4  5.0  10164\n"
     ]
    },
    {
     "data": {
      "image/png": "[encoded data removed]",
      "text/plain": [
       "<Figure size 640x480 with 1 Axes>"
      ]
     },
     "metadata": {},
     "output_type": "display_data"
    }
   ],
   "source": [
    "# Example usage in a Jupyter Notebook\n",
    "filepath = \"YO/FMLV031024/2024_10_03-11_58_51_RR.csv\"\n",
    "load_and_plot_data(filepath)"
   ]
  },
  {
   "cell_type": "code",
   "execution_count": null,
   "id": "87a66e7e-1868-4604-9bea-646cb82aecf1",
   "metadata": {},
   "outputs": [],
   "source": []
  }
 ],
 "metadata": {
  "kernelspec": {
   "display_name": "Python 3 (ipykernel)",
   "language": "python",
   "name": "python3"
  },
  "language_info": {
   "codemirror_mode": {
    "name": "ipython",
    "version": 3
   },
   "file_extension": ".py",
   "mimetype": "text/x-python",
   "name": "python",
   "nbconvert_exporter": "python",
   "pygments_lexer": "ipython3",
   "version": "3.10.12"
  }
 },
 "nbformat": 4,
 "nbformat_minor": 5
}
